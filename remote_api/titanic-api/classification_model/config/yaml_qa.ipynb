{
 "cells": [
  {
   "cell_type": "code",
   "execution_count": 3,
   "id": "a16cbc23-b191-4f66-8b3b-824a66781ed8",
   "metadata": {},
   "outputs": [],
   "source": [
    "from pathlib import Path\n",
    "from typing import Sequence\n",
    "\n",
    "from pydantic import BaseModel\n",
    "from strictyaml import YAML, load"
   ]
  },
  {
   "cell_type": "code",
   "execution_count": 5,
   "id": "2d64593d-6ce9-41fd-b161-28029baa6c7d",
   "metadata": {},
   "outputs": [
    {
     "ename": "ModuleNotFoundError",
     "evalue": "No module named 'classification_model'",
     "output_type": "error",
     "traceback": [
      "\u001b[0;31m---------------------------------------------------------------------------\u001b[0m",
      "\u001b[0;31mModuleNotFoundError\u001b[0m                       Traceback (most recent call last)",
      "Cell \u001b[0;32mIn[5], line 1\u001b[0m\n\u001b[0;32m----> 1\u001b[0m \u001b[38;5;28;01mimport\u001b[39;00m\u001b[38;5;250m \u001b[39m\u001b[38;5;21;01mclassification_model\u001b[39;00m\n",
      "\u001b[0;31mModuleNotFoundError\u001b[0m: No module named 'classification_model'"
     ]
    }
   ],
   "source": [
    "import classification_model"
   ]
  },
  {
   "cell_type": "code",
   "execution_count": 4,
   "id": "6082483d-c644-49a2-a11a-6be6645383a7",
   "metadata": {},
   "outputs": [
    {
     "ename": "NameError",
     "evalue": "name 'classification_model' is not defined",
     "output_type": "error",
     "traceback": [
      "\u001b[0;31m---------------------------------------------------------------------------\u001b[0m",
      "\u001b[0;31mNameError\u001b[0m                                 Traceback (most recent call last)",
      "Cell \u001b[0;32mIn[4], line 1\u001b[0m\n\u001b[0;32m----> 1\u001b[0m PACKAGE_ROOT \u001b[38;5;241m=\u001b[39m Path(\u001b[43mclassification_model\u001b[49m\u001b[38;5;241m.\u001b[39m\u001b[38;5;18m__file__\u001b[39m)\u001b[38;5;241m.\u001b[39mresolve()\u001b[38;5;241m.\u001b[39mparent\n\u001b[1;32m      2\u001b[0m ROOT \u001b[38;5;241m=\u001b[39m PACKAGE_ROOT\u001b[38;5;241m.\u001b[39mparent\n\u001b[1;32m      3\u001b[0m CONFIG_FILE_PATH \u001b[38;5;241m=\u001b[39m PACKAGE_ROOT \u001b[38;5;241m/\u001b[39m \u001b[38;5;124m\"\u001b[39m\u001b[38;5;124mconfig.yml\u001b[39m\u001b[38;5;124m\"\u001b[39m\n",
      "\u001b[0;31mNameError\u001b[0m: name 'classification_model' is not defined"
     ]
    }
   ],
   "source": [
    "PACKAGE_ROOT = Path(classification_model.__file__).resolve().parent\n",
    "ROOT = PACKAGE_ROOT.parent\n",
    "CONFIG_FILE_PATH = PACKAGE_ROOT / \"config.yml\"\n",
    "DATASET_DIR = PACKAGE_ROOT / \"datasets\"\n",
    "TRAINED_MODEL_DIR = PACKAGE_ROOT / \"trained_models\""
   ]
  },
  {
   "cell_type": "code",
   "execution_count": null,
   "id": "d76b1144-d0f8-48a3-9ddd-ec73fe78cb99",
   "metadata": {},
   "outputs": [],
   "source": []
  }
 ],
 "metadata": {
  "kernelspec": {
   "display_name": "Python 3 (ipykernel)",
   "language": "python",
   "name": "python3"
  },
  "language_info": {
   "codemirror_mode": {
    "name": "ipython",
    "version": 3
   },
   "file_extension": ".py",
   "mimetype": "text/x-python",
   "name": "python",
   "nbconvert_exporter": "python",
   "pygments_lexer": "ipython3",
   "version": "3.9.21"
  }
 },
 "nbformat": 4,
 "nbformat_minor": 5
}
